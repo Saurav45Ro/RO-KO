{
  "nbformat": 4,
  "nbformat_minor": 0,
  "metadata": {
    "colab": {
      "provenance": [],
      "authorship_tag": "ABX9TyN0lqkw81y8ugq4cRJ8UMo+",
      "include_colab_link": true
    },
    "kernelspec": {
      "name": "python3",
      "display_name": "Python 3"
    },
    "language_info": {
      "name": "python"
    }
  },
  "cells": [
    {
      "cell_type": "markdown",
      "metadata": {
        "id": "view-in-github",
        "colab_type": "text"
      },
      "source": [
        "<a href=\"https://colab.research.google.com/github/Saurav45Ro/RO-KO/blob/main/Guess_the_number.ipynb\" target=\"_parent\"><img src=\"https://colab.research.google.com/assets/colab-badge.svg\" alt=\"Open In Colab\"/></a>"
      ]
    },
    {
      "cell_type": "code",
      "execution_count": null,
      "metadata": {
        "colab": {
          "base_uri": "https://localhost:8080/"
        },
        "id": "_AJNnXJehnNa",
        "outputId": "6a072f72-ddfb-49e6-e52c-edab906caf41"
      },
      "outputs": [
        {
          "output_type": "stream",
          "name": "stdout",
          "text": [
            "I am thinking of a number between 1 and 15\n",
            "Enter your guess number6\n",
            "Too high! Try again.\n"
          ]
        }
      ],
      "source": [
        "\n",
        "\n",
        "import random\n",
        "secret_number = random.randint(1,15)\n",
        "attempts=0\n",
        "print(\"I am thinking of a number between 1 and 15\")\n",
        "while True:\n",
        "      try:\n",
        "          guess=int(input(\"Enter your guess number\"))\n",
        "          attempts+=1\n",
        "\n",
        "          if guess<secret_number:\n",
        "             print(\"Too low! Try again.\")\n",
        "          elif guess>secret_number:\n",
        "             print(\"Too high! Try again.\")\n",
        "          elif guess==secret_number:\n",
        "             print(\"Bingo! You guess the correct number {secret_number} in {attempts} attempts.\")\n",
        "          break\n",
        "      except ValueError:\n",
        "          print(\"Invalid input.Please try again.\")"
      ]
    }
  ]
}