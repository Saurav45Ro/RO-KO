{
  "nbformat": 4,
  "nbformat_minor": 0,
  "metadata": {
    "colab": {
      "provenance": [],
      "authorship_tag": "ABX9TyM38550YEQKyeuNBjNNFi5Z",
      "include_colab_link": true
    },
    "kernelspec": {
      "name": "python3",
      "display_name": "Python 3"
    },
    "language_info": {
      "name": "python"
    }
  },
  "cells": [
    {
      "cell_type": "markdown",
      "metadata": {
        "id": "view-in-github",
        "colab_type": "text"
      },
      "source": [
        "<a href=\"https://colab.research.google.com/github/Saurav45Ro/RO-KO/blob/main/Calculator.ipynb\" target=\"_parent\"><img src=\"https://colab.research.google.com/assets/colab-badge.svg\" alt=\"Open In Colab\"/></a>"
      ]
    },
    {
      "cell_type": "code",
      "execution_count": null,
      "metadata": {
        "colab": {
          "base_uri": "https://localhost:8080/"
        },
        "id": "PkHiZ-N0mn9b",
        "outputId": "875d82bd-1c52-40c7-f418-1738ab1ec5e6"
      },
      "outputs": [
        {
          "metadata": {
            "tags": null
          },
          "name": "stdout",
          "output_type": "stream",
          "text": [
            "select operation.\n",
            "a.Add\n",
            "b.Subtract\n",
            "c.Multiply\n",
            "d.Divide\n"
          ]
        }
      ],
      "source": [
        "# This function adds two numbers\n",
        "def add(x,y):\n",
        "    return x+y\n",
        "# This function subtracts two numbers\n",
        "def subtract(x,y):\n",
        "    return x-y\n",
        "# This function multiplies two numbers\n",
        "def multiply(x,y):\n",
        "    return x*y\n",
        "# This function divides two numbers\n",
        "def divide(x,y):\n",
        "    return x/y\n",
        "\n",
        "print(\"select operation.\")\n",
        "print(\"a.Add\")\n",
        "print(\"b.Subtract\")\n",
        "print(\"c.Multiply\")\n",
        "print(\"d.Divide\")\n",
        "\n",
        "while True:\n",
        "    # take input from the user\n",
        "    choice = input(\"Enter choice('a','b','c','d'):\")\n",
        "\n",
        "    # check if choice is one of the four options\n",
        "    if choice in('a','b','c','d'):\n",
        "       try:\n",
        "           num1 = float(input(\"Enter first number:\"))\n",
        "           num2 = float(input(\"Enter second number:\"))\n",
        "       except ValueError:\n",
        "              print(\"Invalid input. Please enter a number.\")\n",
        "              continue\n",
        "       if choice =='a':\n",
        "          print(num1,\"+\",num2,\"=\",add(num1,num2))\n",
        "       if choice =='b':\n",
        "          print(num1,\"-\",num2,\"=\",subtract(num1,num2))\n",
        "       if choice =='c':\n",
        "          print(num1,\"*\",num2,\"=\",multiply(num1,num2))\n",
        "       if choice =='d':\n",
        "          print(num1,\"/\",num2,\"=\",divide(num1,num2))\n",
        "       # check if user wants another calculation\n",
        "       # break the while loop if answer is no\n",
        "       next_calculation = input(\" Let's do next calculation?(yes/no)\")\n",
        "       if next_calculation ==\"no\":\n",
        "          break\n",
        "       else:\n",
        "            print(\"Invalid Input\")"
      ]
    }
  ]
}